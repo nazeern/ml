{
 "cells": [
  {
   "cell_type": "markdown",
   "id": "twenty-transfer",
   "metadata": {},
   "source": [
    "## Stone Laying"
   ]
  },
  {
   "cell_type": "code",
   "execution_count": 852,
   "id": "accomplished-hypothetical",
   "metadata": {},
   "outputs": [],
   "source": [
    "# Inputs: \n",
    "#     - List of Stone objects (width, height)\n",
    "#     - Area dimension\n",
    "\n",
    "# Output:\n",
    "#     - List of Stone objects, whether its rotated, and its corresponding location\n",
    "\n",
    "from random import randint, choice\n",
    "\n",
    "from copy import deepcopy\n",
    "\n",
    "X_DIM = 43\n",
    "Y_DIM = 56\n",
    "GRID_DIM = (X_DIM-1, Y_DIM-1)\n",
    "\n",
    "class Stone():\n",
    "    count = 0\n",
    "    def __init__(self, width=0, height=0):\n",
    "        self.width = width\n",
    "        self.height = height\n",
    "        self.rotated = False\n",
    "        self.id = Stone.count\n",
    "        Stone.count += 1\n",
    "    \n",
    "    def __repr__(self):\n",
    "        return f\"(Stone {self.id}, size: {self.width}x{self.height}, rotated: {self.rotated})\"\n",
    "    \n",
    "    def area(self):\n",
    "        return self.width * self.height\n",
    "        \n",
    "    def rotate(self):\n",
    "        self.width, self.height = self.height, self.width\n",
    "        self.rotated = not self.rotated\n",
    "        \n",
    "class Grid():\n",
    "    def __init__(self, storage=[], dim=GRID_DIM, current={}):\n",
    "        self.dim = dim\n",
    "        self.current = current\n",
    "        self.storage = storage\n",
    "    \n",
    "    def reset(self):\n",
    "        self.current = {}\n",
    "        \n",
    "    def area(self):\n",
    "        return (self.dim[0] + 1) * (self.dim[1] + 1)\n",
    "    \n",
    "    def covered(self):\n",
    "        return sum([stone.area() for stone in self.current.keys()])\n",
    "    \n",
    "    def uncovered(self):\n",
    "        return self.area() - self.covered()\n",
    "    \n",
    "    def print_all(self):\n",
    "        if self.current:\n",
    "            for stone in self.current.keys():\n",
    "                self.print_stone_info(stone.id)\n",
    "        else:\n",
    "            print(\"Empty Grid\")\n",
    "    \n",
    "    def invalid(self, stone_id, x, y):\n",
    "        stone = self.get_stone(stone_id)\n",
    "        if x < 0 or x > X_DIM - stone.width or y < 0 or y > Y_DIM - stone.height:\n",
    "            return True\n",
    "        for stone, loc in self.current.items():\n",
    "            x_min, x_max = loc[0], loc[0] + stone.width - 1\n",
    "            y_min, y_max = loc[1], loc[1] + stone.height - 1\n",
    "            if (x_min <= x <= x_max) and (y_min <= y <= y_max):\n",
    "                return True\n",
    "        return False\n",
    "    \n",
    "    def empty(self, x, y):\n",
    "        if x < 0 or x >= X_DIM or y < 0 or y >= Y_DIM:\n",
    "            return False\n",
    "        for stone, loc in self.current.items():\n",
    "            x_min, x_max = loc[0], loc[0] + stone.width - 1\n",
    "            y_min, y_max = loc[1], loc[1] + stone.height - 1\n",
    "            if (x_min <= x <= x_max) and (y_min <= y <= y_max):\n",
    "                return False\n",
    "        return True\n",
    "    \n",
    "    def largest_hole(self):\n",
    "        max_area = 0\n",
    "        for x, y in self.top_left_corners():\n",
    "            x_temp, y_temp = x, y\n",
    "            while self.empty(x_temp, y):\n",
    "                x_temp += 1\n",
    "            while self.empty(x, y_temp):\n",
    "                y_temp += 1\n",
    "            max_area = max((x_temp-x)*(y_temp-y), max_area)\n",
    "        return max_area\n",
    "    \n",
    "    def border_coords(self, stone_id):\n",
    "        stone = self.get_stone(stone_id)\n",
    "        coords = []\n",
    "        coords.extend( [(x, 0) for x in range(X_DIM-stone.width+1) if not self.invalid(stone_id, x, 0)] )\n",
    "        coords.extend( [(x, Y_DIM-stone.height) for x in range(X_DIM-stone.width+1) if not self.invalid(stone_id, x, Y_DIM-stone.height)] )\n",
    "        coords.extend( [(0, y) for y in range(1, Y_DIM-stone.height) if not self.invalid(stone_id, 0, y)] )\n",
    "        coords.extend( [(X_DIM-stone.width, y) for y in range(1, Y_DIM-stone.height) if not self.invalid(stone_id, X_DIM-stone.width, y)] )\n",
    "        return coords\n",
    "    \n",
    "    def packer_coords(self, stone_id):\n",
    "        stone = self.get_stone(stone_id)\n",
    "        coords = [[], []]\n",
    "        for y in range(Y_DIM):\n",
    "            for x in range(X_DIM):\n",
    "                if not self.invalid(stone_id, x, y):\n",
    "                    if self.invalid(stone_id, x-1, y) and \\\n",
    "                       self.invalid(stone_id, x, y-1):\n",
    "                        coords[0].append((x, y))\n",
    "                    if self.invalid(stone_id, x-1, y) or \\\n",
    "                       self.invalid(stone_id, x, y-1):\n",
    "                        coords[1].append((x, y))\n",
    "        return coords\n",
    "    \n",
    "    def top_left_corners(self):\n",
    "        coords = []\n",
    "        stone_id = -1\n",
    "        for y in range(Y_DIM):\n",
    "            for x in range(X_DIM):\n",
    "                if not self.invalid(stone_id, x, y):\n",
    "                    if self.invalid(stone_id, x-1, y) and \\\n",
    "                       self.invalid(stone_id, x, y-1):\n",
    "                        coords.append((x, y))\n",
    "                    \n",
    "        return coords\n",
    "    \n",
    "    def rotate_stone(self, stone_id):\n",
    "        self.storage[stone_id].rotate()\n",
    "    \n",
    "    def get_stone(self, stone_id):\n",
    "        if stone_id == -1:\n",
    "            return Stone(1, 1)\n",
    "        else:\n",
    "            return self.storage[stone_id]\n",
    "    \n",
    "    def print_stone_info(self, stone_id):\n",
    "        stone = self.get_stone(stone_id)\n",
    "        if stone in self.current:\n",
    "            loc_info = f\", loc: {self.current[stone]}\"\n",
    "        else:\n",
    "            loc_info = \", loc: in storage\"\n",
    "        print(repr(stone) + loc_info)\n",
    "    \n",
    "    def place(self, stone_id, loc):\n",
    "        stone = self.storage[stone_id]\n",
    "        if self.overlap(stone_id, loc):\n",
    "#             print(\"ERROR: STONE OVERLAP\")\n",
    "#             self.print_stone_info(stone_id)\n",
    "            return False\n",
    "        elif self.out_of_bounds(stone_id, loc):\n",
    "#             print(\"ERROR: STONE OUT OF BOUNDS\")\n",
    "#             self.print_stone_info(stone_id)\n",
    "            return False\n",
    "        else:\n",
    "            self.current[stone] = loc\n",
    "            return True\n",
    "        \n",
    "    def overlap(self, other_id, oloc):\n",
    "        other = self.get_stone(other_id)\n",
    "        ox_min, ox_max = oloc[0], oloc[0] + other.width - 1\n",
    "        oy_min, oy_max = oloc[1], oloc[1] + other.height - 1\n",
    "        for stone, loc in self.current.items():\n",
    "            x_min, x_max = loc[0], loc[0] + stone.width - 1\n",
    "            y_min, y_max = loc[1], loc[1] + stone.height - 1\n",
    "            if ((ox_min <= x_min <= ox_max) or (x_min <= ox_min <= x_max)) and \\\n",
    "               ((oy_min <= y_min <= oy_max) or (y_min <= oy_min <= y_max)):\n",
    "                return True\n",
    "        return False\n",
    "            \n",
    "    def out_of_bounds(self, stone_id, loc):\n",
    "        stone = self.storage[stone_id]\n",
    "        x_min, x_max = loc[0], loc[0] + stone.width - 1\n",
    "        y_min, y_max = loc[1], loc[1] + stone.height - 1\n",
    "        oob_x = x_min < 0 or x_max > self.dim[0]\n",
    "        oob_y = y_min < 0 or y_max > self.dim[1]\n",
    "        return oob_x or oob_y\n",
    "\n",
    "                \n",
    "        "
   ]
  },
  {
   "cell_type": "code",
   "execution_count": 803,
   "id": "elect-nursery",
   "metadata": {},
   "outputs": [],
   "source": [
    "def sort_stones(stones):\n",
    "    return sorted(stones, key=lambda s: s.area(), reverse=True)"
   ]
  },
  {
   "cell_type": "code",
   "execution_count": 848,
   "id": "russian-conspiracy",
   "metadata": {},
   "outputs": [
    {
     "data": {
      "text/plain": [
       "[(Stone 0, size: 24x24, rotated: False),\n",
       " (Stone 1, size: 19x19, rotated: False),\n",
       " (Stone 2, size: 18x18, rotated: False),\n",
       " (Stone 3, size: 18x18, rotated: False),\n",
       " (Stone 4, size: 9x18, rotated: False),\n",
       " (Stone 5, size: 18x9, rotated: False),\n",
       " (Stone 6, size: 12x11, rotated: False),\n",
       " (Stone 7, size: 13x9, rotated: False),\n",
       " (Stone 8, size: 11x9, rotated: False)]"
      ]
     },
     "execution_count": 848,
     "metadata": {},
     "output_type": "execute_result"
    }
   ],
   "source": [
    "# stones = sort_stones([Stone(24, 24),\n",
    "#                      Stone(9, 18),\n",
    "#                      Stone(18, 18),\n",
    "#                      Stone(18, 18),\n",
    "#                      Stone(19, 19),\n",
    "#                      Stone(18, 9),\n",
    "#                      Stone(17, 10),\n",
    "#                      Stone(12, 11)])\n",
    "\n",
    "# stones = sort_stones([Stone(8, 8),\n",
    "#                     Stone(9, 1),\n",
    "#                     Stone(1, 8)])\n",
    "\n",
    "stones = sort_stones([Stone(24, 24),\n",
    "                     Stone(9, 18),\n",
    "                     Stone(18, 18),\n",
    "                     Stone(18, 18),\n",
    "                     Stone(19, 19),\n",
    "                     Stone(18, 9),\n",
    "                     Stone(11, 9),\n",
    "                     Stone(13, 9),\n",
    "                     Stone(12, 11)])\n",
    "\n",
    "i = 0\n",
    "for stone in stones:\n",
    "    stone.id = i\n",
    "    i += 1\n",
    "stones"
   ]
  },
  {
   "cell_type": "code",
   "execution_count": 775,
   "id": "suspected-pacific",
   "metadata": {
    "scrolled": false
   },
   "outputs": [
    {
     "data": {
      "text/plain": [
       "[(Stone 0, size: 2x3, rotated: False),\n",
       " (Stone 1, size: 2x3, rotated: False),\n",
       " (Stone 2, size: 2x3, rotated: False),\n",
       " (Stone 3, size: 2x3, rotated: False),\n",
       " (Stone 4, size: 2x3, rotated: False),\n",
       " (Stone 5, size: 2x3, rotated: False),\n",
       " (Stone 6, size: 2x3, rotated: False),\n",
       " (Stone 7, size: 2x3, rotated: False),\n",
       " (Stone 8, size: 2x3, rotated: False),\n",
       " (Stone 9, size: 2x3, rotated: False),\n",
       " (Stone 10, size: 2x2, rotated: False),\n",
       " (Stone 11, size: 2x2, rotated: False),\n",
       " (Stone 12, size: 2x2, rotated: False),\n",
       " (Stone 13, size: 2x2, rotated: False),\n",
       " (Stone 14, size: 2x2, rotated: False),\n",
       " (Stone 15, size: 2x2, rotated: False),\n",
       " (Stone 16, size: 2x2, rotated: False),\n",
       " (Stone 17, size: 2x2, rotated: False),\n",
       " (Stone 18, size: 2x2, rotated: False),\n",
       " (Stone 19, size: 2x2, rotated: False)]"
      ]
     },
     "execution_count": 775,
     "metadata": {},
     "output_type": "execute_result"
    }
   ],
   "source": [
    "stones1 = sort_stones([Stone(2, 2),\n",
    "                      Stone(2, 2),\n",
    "                      Stone(2, 2),\n",
    "                      Stone(2, 2),\n",
    "                      Stone(2, 2),\n",
    "                      Stone(2, 2),\n",
    "                      Stone(2, 2),\n",
    "                      Stone(2, 2),\n",
    "                      Stone(2, 2),\n",
    "                      Stone(2, 2),\n",
    "                      Stone(2, 3),\n",
    "                      Stone(2, 3),\n",
    "                      Stone(2, 3),\n",
    "                      Stone(2, 3),\n",
    "                      Stone(2, 3),\n",
    "                      Stone(2, 3),\n",
    "                      Stone(2, 3),\n",
    "                      Stone(2, 3),\n",
    "                      Stone(2, 3),\n",
    "                      Stone(2, 3)])\n",
    "\n",
    "i = 0\n",
    "for stone in stones1:\n",
    "    stone.id = i\n",
    "    i += 1\n",
    "stones1"
   ]
  },
  {
   "cell_type": "code",
   "execution_count": 831,
   "id": "optimum-lodging",
   "metadata": {},
   "outputs": [
    {
     "name": "stdout",
     "output_type": "stream",
     "text": [
      "(Stone 1, size: 2x3, rotated: False), loc: (0, 0)\n",
      "(Stone 10, size: 2x2, rotated: False), loc: (0, 3)\n"
     ]
    },
    {
     "data": {
      "text/plain": [
       "80"
      ]
     },
     "execution_count": 831,
     "metadata": {},
     "output_type": "execute_result"
    }
   ],
   "source": [
    "# TESTING FUNCTIONS\n",
    "test_grid = Grid(stones1)\n",
    "test_grid.reset()\n",
    "test_grid.place(1, (0, 0))\n",
    "test_grid.place(10, (0, 3))\n",
    "test_grid.print_all()\n",
    "\n",
    "# Test placing 3x2 stone\n",
    "test_coords = []\n",
    "# for y in range(-1, Y_DIM):\n",
    "#     for x in range(-1, X_DIM):\n",
    "#         if not test_grid.invalid(0, x, y):\n",
    "#             test_coords.append((x, y))\n",
    "\n",
    "test_grid.top_left_corners()\n",
    "test_grid.largest_hole()\n"
   ]
  },
  {
   "cell_type": "code",
   "execution_count": 821,
   "id": "atmospheric-saying",
   "metadata": {},
   "outputs": [
    {
     "ename": "TypeError",
     "evalue": "scatter() missing 2 required positional arguments: 'x' and 'y'",
     "output_type": "error",
     "traceback": [
      "\u001b[0;31m-----------------------------------------------------------\u001b[0m",
      "\u001b[0;31mTypeError\u001b[0m                 Traceback (most recent call last)",
      "\u001b[0;32m<ipython-input-821-826e0539335b>\u001b[0m in \u001b[0;36m<module>\u001b[0;34m\u001b[0m\n\u001b[1;32m      1\u001b[0m \u001b[0;31m# Coordinate plotter\u001b[0m\u001b[0;34m\u001b[0m\u001b[0;34m\u001b[0m\u001b[0;34m\u001b[0m\u001b[0m\n\u001b[1;32m      2\u001b[0m \u001b[0mplt\u001b[0m\u001b[0;34m.\u001b[0m\u001b[0mgca\u001b[0m\u001b[0;34m(\u001b[0m\u001b[0;34m)\u001b[0m\u001b[0;34m.\u001b[0m\u001b[0minvert_yaxis\u001b[0m\u001b[0;34m(\u001b[0m\u001b[0;34m)\u001b[0m\u001b[0;34m\u001b[0m\u001b[0;34m\u001b[0m\u001b[0m\n\u001b[0;32m----> 3\u001b[0;31m \u001b[0mplt\u001b[0m\u001b[0;34m.\u001b[0m\u001b[0mscatter\u001b[0m\u001b[0;34m(\u001b[0m\u001b[0;34m*\u001b[0m\u001b[0mzip\u001b[0m\u001b[0;34m(\u001b[0m\u001b[0;34m*\u001b[0m\u001b[0mtest_coords\u001b[0m\u001b[0;34m)\u001b[0m\u001b[0;34m)\u001b[0m\u001b[0;34m\u001b[0m\u001b[0;34m\u001b[0m\u001b[0m\n\u001b[0m",
      "\u001b[0;31mTypeError\u001b[0m: scatter() missing 2 required positional arguments: 'x' and 'y'"
     ]
    },
    {
     "data": {
      "image/png": "[encoded data removed]",
      "text/plain": [
       "<Figure size 432x288 with 1 Axes>"
      ]
     },
     "metadata": {
      "needs_background": "light"
     },
     "output_type": "display_data"
    }
   ],
   "source": [
    "# Coordinate plotter\n",
    "plt.gca().invert_yaxis()\n",
    "plt.scatter(*zip(*test_coords))"
   ]
  },
  {
   "cell_type": "markdown",
   "id": "italian-fossil",
   "metadata": {},
   "source": [
    "# Randomized Strategy"
   ]
  },
  {
   "cell_type": "code",
   "execution_count": 642,
   "id": "unsigned-allocation",
   "metadata": {
    "scrolled": true
   },
   "outputs": [
    {
     "data": {
      "text/plain": [
       "{(Stone 0, size: 3x2, rotated: False): (7, 0),\n",
       " (Stone 1, size: 3x2, rotated: False): (7, 8),\n",
       " (Stone 2, size: 3x2, rotated: False): (5, 6),\n",
       " (Stone 3, size: 2x3, rotated: True): (8, 3),\n",
       " (Stone 4, size: 3x2, rotated: False): (3, 0),\n",
       " (Stone 5, size: 2x3, rotated: True): (2, 2),\n",
       " (Stone 6, size: 2x3, rotated: True): (1, 7),\n",
       " (Stone 7, size: 2x3, rotated: True): (3, 7),\n",
       " (Stone 8, size: 2x3, rotated: True): (0, 0),\n",
       " (Stone 9, size: 3x2, rotated: False): (2, 5),\n",
       " (Stone 10, size: 2x2, rotated: True): (5, 8),\n",
       " (Stone 11, size: 2x2, rotated: True): (6, 2),\n",
       " (Stone 12, size: 2x2, rotated: False): (6, 4),\n",
       " (Stone 13, size: 2x2, rotated: True): (0, 5),\n",
       " (Stone 14, size: 2x2, rotated: True): (4, 3),\n",
       " (Stone 15, size: 2x2, rotated: False): (8, 6),\n",
       " (Stone 16, size: 2x2, rotated: True): (0, 3)}"
      ]
     },
     "execution_count": 642,
     "metadata": {},
     "output_type": "execute_result"
    }
   ],
   "source": [
    "# RANDOM STRATEGY\n",
    "\n",
    "# NUM_EPOCHS = 1000\n",
    "# NUM_TRIES = 1000\n",
    "\n",
    "# grid = Grid(stones1)\n",
    "# tries = 0\n",
    "# stone_id = 0\n",
    "# max_score = 0\n",
    "# epoch = 0\n",
    "# best = {}\n",
    "\n",
    "# grid.reset()\n",
    "# while epoch < NUM_EPOCHS:\n",
    "#     while stone_id < len(grid.storage)-1 and tries < NUM_TRIES:\n",
    "#         if tries == NUM_TRIES:\n",
    "#             stone_id += 1\n",
    "#             tries = 0\n",
    "#         if randint(0, 1):\n",
    "#             grid.rotate_stone(stone_id)\n",
    "#         rand_x = randint(0, grid.dim[0]+grid.get_stone(stone_id).width)\n",
    "#         rand_y = randint(0, grid.dim[1]+grid.get_stone(stone_id).height)\n",
    "#         if not grid.place(stone_id, (rand_x, rand_y)):\n",
    "#             tries += 1\n",
    "#         else:\n",
    "#             stone_id += 1\n",
    "#             tries = 0\n",
    "#     curr_score = grid.covered()\n",
    "#     if curr_score > max_score:\n",
    "#         best = deepcopy(grid.current)\n",
    "#         max_score = curr_score\n",
    "#     tries = 0\n",
    "#     stone_id = 0\n",
    "#     epoch += 1\n",
    "#     grid.reset()\n",
    "    \n",
    "# best"
   ]
  },
  {
   "cell_type": "markdown",
   "id": "lined-harvard",
   "metadata": {},
   "source": [
    "# Border Hugger"
   ]
  },
  {
   "cell_type": "code",
   "execution_count": 693,
   "id": "living-craft",
   "metadata": {},
   "outputs": [
    {
     "data": {
      "text/plain": [
       "{(Stone 0, size: 2x3, rotated: True): (6, 7),\n",
       " (Stone 1, size: 3x2, rotated: False): (2, 8),\n",
       " (Stone 2, size: 2x3, rotated: True): (8, 5),\n",
       " (Stone 3, size: 2x3, rotated: True): (8, 0),\n",
       " (Stone 4, size: 3x2, rotated: False): (0, 4),\n",
       " (Stone 5, size: 2x3, rotated: True): (4, 0),\n",
       " (Stone 6, size: 2x3, rotated: True): (0, 0),\n",
       " (Stone 7, size: 2x3, rotated: True): (6, 0),\n",
       " (Stone 8, size: 2x3, rotated: True): (2, 0),\n",
       " (Stone 9, size: 3x2, rotated: False): (0, 6),\n",
       " (Stone 10, size: 2x2, rotated: False): (8, 8),\n",
       " (Stone 11, size: 2x2, rotated: False): (8, 3),\n",
       " (Stone 12, size: 2x2, rotated: False): (0, 8)}"
      ]
     },
     "execution_count": 693,
     "metadata": {},
     "output_type": "execute_result"
    }
   ],
   "source": [
    "# BORDER HUGGER STRATEGY\n",
    "\n",
    "# NUM_EPOCHS = 1000\n",
    "# NUM_TRIES = 100\n",
    "\n",
    "# grid = Grid(stones1)\n",
    "# tries = 0\n",
    "# stone_id = 0\n",
    "# max_score = 0\n",
    "# epoch = 0\n",
    "# best = {}\n",
    "\n",
    "# grid.reset()\n",
    "# while epoch < NUM_EPOCHS:\n",
    "#     while stone_id < len(grid.storage)-1 and tries < NUM_TRIES:\n",
    "#         # Enough tries?\n",
    "#         if tries == NUM_TRIES:\n",
    "#             stone_id += 1\n",
    "#             tries = 0\n",
    "            \n",
    "#         # Rotate stone?\n",
    "#         if randint(0, 1):\n",
    "#             grid.rotate_stone(stone_id)\n",
    "            \n",
    "#         # Border coordinates?\n",
    "#         borders = grid.border_coords(stone_id)\n",
    "#         if borders:\n",
    "#             try_loc = choice(borders)\n",
    "#         else:\n",
    "#             stone_id += 1\n",
    "#             tries = 0\n",
    "            \n",
    "#         # Try placing the stone\n",
    "#         if not grid.place(stone_id, try_loc):\n",
    "#             tries += 1\n",
    "#         else:\n",
    "#             stone_id += 1\n",
    "#             tries = 0\n",
    "#     curr_score = grid.covered()\n",
    "#     if curr_score > max_score:\n",
    "#         best = deepcopy(grid.current)\n",
    "#         max_score = curr_score\n",
    "#     tries = 0\n",
    "#     stone_id = 0\n",
    "#     epoch += 1\n",
    "#     grid.reset()\n",
    "    \n",
    "# best"
   ]
  },
  {
   "cell_type": "markdown",
   "id": "mathematical-least",
   "metadata": {},
   "source": [
    "# Packing Strategy"
   ]
  },
  {
   "cell_type": "code",
   "execution_count": 855,
   "id": "verbal-swedish",
   "metadata": {},
   "outputs": [
    {
     "name": "stdout",
     "output_type": "stream",
     "text": [
      "Batch 0 out of 10\n",
      "Batch 1 out of 10\n",
      "Batch 2 out of 10\n",
      "Batch 3 out of 10\n",
      "Batch 4 out of 10\n",
      "Batch 5 out of 10\n",
      "Batch 6 out of 10\n",
      "Batch 7 out of 10\n",
      "Batch 8 out of 10\n",
      "Batch 9 out of 10\n"
     ]
    },
    {
     "data": {
      "text/plain": [
       "{(Stone 0, size: 24x24, rotated: False): (0, 0),\n",
       " (Stone 1, size: 19x19, rotated: False): (24, 0),\n",
       " (Stone 2, size: 18x18, rotated: False): (0, 24),\n",
       " (Stone 3, size: 18x18, rotated: False): (18, 24),\n",
       " (Stone 5, size: 18x9, rotated: False): (0, 42),\n",
       " (Stone 6, size: 12x11, rotated: False): (18, 42),\n",
       " (Stone 7, size: 13x9, rotated: False): (30, 42)}"
      ]
     },
     "execution_count": 855,
     "metadata": {},
     "output_type": "execute_result"
    }
   ],
   "source": [
    "NUM_EPOCHS = 5000\n",
    "NUM_TRIES = 50\n",
    "NUM_BATCHES = 10\n",
    "BATCH_SIZE = NUM_EPOCHS // NUM_BATCHES\n",
    "\n",
    "grid = Grid(stones)\n",
    "tries = 0\n",
    "stone_id = 0\n",
    "max_score = 0\n",
    "low_hole_score = X_DIM * Y_DIM\n",
    "epoch = 0\n",
    "best = {}\n",
    "\n",
    "grid.reset()\n",
    "while epoch < NUM_EPOCHS:\n",
    "    while stone_id < len(grid.storage) and tries < NUM_TRIES:\n",
    "        # Enough tries?\n",
    "        if tries == NUM_TRIES:\n",
    "            stone_id += 1\n",
    "            tries = 0\n",
    "            \n",
    "        # Rotate stone?\n",
    "#         if randint(0, 1):\n",
    "#             grid.rotate_stone(stone_id)\n",
    "            \n",
    "        # Border coordinates?\n",
    "        packers = grid.packer_coords(stone_id)\n",
    "        if packers[0]:\n",
    "            try_loc = choice(packers[0])\n",
    "            grid.place(stone_id, try_loc)\n",
    "            last_used = stone_id\n",
    "            stone_id += 1\n",
    "        elif packers[1]:\n",
    "            try_loc = choice(packers[1])\n",
    "            grid.place(stone_id, try_loc)\n",
    "            last_used = stone_id\n",
    "            stone_id += 1\n",
    "        else:\n",
    "            stone_id += 1\n",
    "            \n",
    "        # Try placing the stone\n",
    "#         if not grid.place(stone_id, try_loc):\n",
    "#             tries += 1\n",
    "#         else:\n",
    "#             stone_id += 1\n",
    "#             tries = 0\n",
    "\n",
    "    curr_score = grid.covered()\n",
    "    if curr_score >= max_score and grid.largest_hole() < low_hole_score:\n",
    "        best = deepcopy(grid.current)\n",
    "        max_score = curr_score\n",
    "        low_hole_score = grid.largest_hole()\n",
    "    if epoch % BATCH_SIZE == 0:\n",
    "        print(f\"Batch {epoch // BATCH_SIZE} out of {NUM_BATCHES}\") \n",
    "    tries = 0\n",
    "    stone_id = 0\n",
    "    epoch += 1\n",
    "    grid.reset()\n",
    "    \n",
    "best"
   ]
  },
  {
   "cell_type": "code",
   "execution_count": 599,
   "id": "seventh-inclusion",
   "metadata": {},
   "outputs": [],
   "source": [
    "# def stone_layer(grid, tries, stone_id=0, max_score=0, epoch=0, best={}):\n",
    "#     if stone_id >= len(grid.storage) or tries > 100:\n",
    "#         if grid.covered() > max_score:\n",
    "#             maxed_score = grid.covered()\n",
    "#             best = grid.current.copy()\n",
    "#             grid.reset()\n",
    "#             return stone_layer(grid, 0, 0, maxed_score, epoch+1, best)\n",
    "#         else:\n",
    "#             grid.reset()\n",
    "#             return stone_layer(grid, 0, 0, max_score, epoch+1, best)\n",
    "\n",
    "#     if epoch > 50:\n",
    "#         return grid.current\n",
    "#     rand_x = randint(0, grid.dim[0])\n",
    "#     rand_y = randint(0, grid.dim[1])\n",
    "    \n",
    "#     if grid.place(stone_id, (rand_x, rand_y)):\n",
    "#         return stone_layer(grid, 0, stone_id+1, max_score, epoch)\n",
    "#     else:\n",
    "#         return stone_layer(grid, tries+1, stone_id, max_score, epoch)"
   ]
  },
  {
   "cell_type": "code",
   "execution_count": 837,
   "id": "private-macedonia",
   "metadata": {},
   "outputs": [],
   "source": [
    "analysis_grid = Grid()\n",
    "analysis_grid.current = best\n"
   ]
  },
  {
   "cell_type": "code",
   "execution_count": 857,
   "id": "cheap-couple",
   "metadata": {
    "scrolled": false
   },
   "outputs": [
    {
     "data": {
      "text/plain": [
       "[]"
      ]
     },
     "execution_count": 857,
     "metadata": {},
     "output_type": "execute_result"
    },
    {
     "data": {
      "image/png": "[encoded data removed]",
      "text/plain": [
       "<Figure size 720x720 with 1 Axes>"
      ]
     },
     "metadata": {
      "needs_background": "light"
     },
     "output_type": "display_data"
    }
   ],
   "source": [
    "import matplotlib.pyplot as plt\n",
    "\n",
    "plt.figure(figsize=(10, 10))\n",
    "plt.axis([0, GRID_DIM[0]+1, 0, GRID_DIM[1]+1])\n",
    "plt.gca().add_patch(plt.Rectangle((0, 0), GRID_DIM[0]+1, GRID_DIM[1]+1, ec='r', fc='w'))\n",
    "plt.gca().invert_yaxis()\n",
    "for stone, coord in best.items():\n",
    "    plt.gca().add_patch(plt.Rectangle(coord, stone.width, stone.height, ec='r', lw=4))\n",
    "    \n",
    "plt.plot()"
   ]
  },
  {
   "cell_type": "code",
   "execution_count": null,
   "id": "alien-bobby",
   "metadata": {},
   "outputs": [],
   "source": []
  },
  {
   "cell_type": "code",
   "execution_count": null,
   "id": "improving-temple",
   "metadata": {},
   "outputs": [],
   "source": []
  },
  {
   "cell_type": "code",
   "execution_count": 138,
   "id": "mature-hopkins",
   "metadata": {
    "scrolled": false
   },
   "outputs": [
    {
     "data": {
      "text/plain": [
       "(0.0, 2.0, 0.0, 14.0)"
      ]
     },
     "execution_count": 138,
     "metadata": {},
     "output_type": "execute_result"
    },
    {
     "data": {
      "image/png": "[encoded data removed]",
      "text/plain": [
       "<Figure size 432x288 with 1 Axes>"
      ]
     },
     "metadata": {
      "needs_background": "light"
     },
     "output_type": "display_data"
    }
   ],
   "source": [
    "import numpy as np\n",
    "import matplotlib.pyplot as plt\n",
    "\n",
    "X = 2 * np.random.rand(100, 1)\n",
    "y = 4 + 3 * X + np.random.randn(100, 1)\n",
    "\n",
    "plt.plot(X, y, 'b.')\n",
    "plt.axis([0, 2, 0, 14])"
   ]
  },
  {
   "cell_type": "code",
   "execution_count": 139,
   "id": "rolled-tuning",
   "metadata": {},
   "outputs": [
    {
     "data": {
      "text/plain": [
       "((100, 1), (100, 1))"
      ]
     },
     "execution_count": 139,
     "metadata": {},
     "output_type": "execute_result"
    }
   ],
   "source": [
    "X.shape, y.shape"
   ]
  },
  {
   "cell_type": "code",
   "execution_count": 140,
   "id": "improving-orleans",
   "metadata": {},
   "outputs": [
    {
     "data": {
      "text/plain": [
       "(100, 2)"
      ]
     },
     "execution_count": 140,
     "metadata": {},
     "output_type": "execute_result"
    }
   ],
   "source": [
    "X_b = np.c_[np.ones((100, 1)), X]\n",
    "X_b.shape"
   ]
  },
  {
   "cell_type": "code",
   "execution_count": 141,
   "id": "seeing-potter",
   "metadata": {},
   "outputs": [
    {
     "data": {
      "text/plain": [
       "array([[3.98836397],\n",
       "       [3.02333529]])"
      ]
     },
     "execution_count": 141,
     "metadata": {},
     "output_type": "execute_result"
    }
   ],
   "source": [
    "theta_best = np.linalg.inv(X_b.T.dot(X_b)).dot(X_b.T).dot(y)\n",
    "theta_best"
   ]
  },
  {
   "cell_type": "code",
   "execution_count": 142,
   "id": "acoustic-fight",
   "metadata": {},
   "outputs": [
    {
     "data": {
      "text/plain": [
       "(2, 1)"
      ]
     },
     "execution_count": 142,
     "metadata": {},
     "output_type": "execute_result"
    }
   ],
   "source": [
    "X_new = np.array([[0], [2]])\n",
    "X_new.shape"
   ]
  },
  {
   "cell_type": "code",
   "execution_count": 143,
   "id": "acting-pastor",
   "metadata": {},
   "outputs": [
    {
     "data": {
      "text/plain": [
       "array([[ 3.98836397],\n",
       "       [10.03503455]])"
      ]
     },
     "execution_count": 143,
     "metadata": {},
     "output_type": "execute_result"
    }
   ],
   "source": [
    "X_new_b = np.c_[np.ones((2, 1)), X_new]\n",
    "y_predict = X_new_b.dot(theta_best)\n",
    "y_predict"
   ]
  },
  {
   "cell_type": "code",
   "execution_count": 144,
   "id": "lesbian-idaho",
   "metadata": {},
   "outputs": [
    {
     "data": {
      "text/plain": [
       "(0.0, 2.0, 0.0, 15.0)"
      ]
     },
     "execution_count": 144,
     "metadata": {},
     "output_type": "execute_result"
    },
    {
     "data": {
      "image/png": "[encoded data removed]",
      "text/plain": [
       "<Figure size 432x288 with 1 Axes>"
      ]
     },
     "metadata": {
      "needs_background": "light"
     },
     "output_type": "display_data"
    }
   ],
   "source": [
    "plt.plot(X_new, y_predict, 'r-')\n",
    "plt.plot(X, y, 'b.')\n",
    "plt.axis([0, 2, 0, 15])"
   ]
  },
  {
   "cell_type": "code",
   "execution_count": 145,
   "id": "apparent-guyana",
   "metadata": {},
   "outputs": [
    {
     "data": {
      "text/plain": [
       "(array([3.98836397]), array([[3.02333529]]))"
      ]
     },
     "execution_count": 145,
     "metadata": {},
     "output_type": "execute_result"
    }
   ],
   "source": [
    "from sklearn.linear_model import LinearRegression\n",
    "\n",
    "lin_reg = LinearRegression()\n",
    "lin_reg.fit(X, y)\n",
    "lin_reg.intercept_, lin_reg.coef_"
   ]
  },
  {
   "cell_type": "code",
   "execution_count": 146,
   "id": "obvious-alpha",
   "metadata": {},
   "outputs": [
    {
     "data": {
      "text/plain": [
       "array([[ 3.98836397],\n",
       "       [10.03503455]])"
      ]
     },
     "execution_count": 146,
     "metadata": {},
     "output_type": "execute_result"
    }
   ],
   "source": [
    "lin_reg.predict(X_new)"
   ]
  },
  {
   "cell_type": "markdown",
   "id": "important-legislation",
   "metadata": {},
   "source": [
    "# Normal Equation: \n",
    "\n",
    "$$\\hat\\theta = (X^T X)^{-1} X^T y$$\n",
    "\n",
    "# Pseudoinverse (Moore-Penrose Inverse):\n",
    "\n",
    "$$\\hat{\\theta}  =  X^+  y$$\n",
    "\n",
    "$$X^+  =  V {\\Sigma}^+ U^T$$\n",
    "\n",
    "$\\Sigma^+$ takes $\\Sigma$, sets to zero all values smaller than a tiny threshold value, replaces all nonzero values with their inverse, and transposes that matrix."
   ]
  },
  {
   "cell_type": "code",
   "execution_count": 147,
   "id": "vital-translation",
   "metadata": {},
   "outputs": [
    {
     "data": {
      "text/plain": [
       "array([[3.98836397],\n",
       "       [3.02333529]])"
      ]
     },
     "execution_count": 147,
     "metadata": {},
     "output_type": "execute_result"
    }
   ],
   "source": [
    "theta_best_svd, residuals, rank, s = np.linalg.lstsq(X_b, y, rcond=1e-6)\n",
    "theta_best_svd"
   ]
  },
  {
   "cell_type": "code",
   "execution_count": 148,
   "id": "private-night",
   "metadata": {},
   "outputs": [
    {
     "data": {
      "text/plain": [
       "array([[3.98836397],\n",
       "       [3.02333529]])"
      ]
     },
     "execution_count": 148,
     "metadata": {},
     "output_type": "execute_result"
    }
   ],
   "source": [
    "# This is the pseudo inverse of X_b\n",
    "np.linalg.pinv(X_b).dot(y)"
   ]
  },
  {
   "cell_type": "code",
   "execution_count": 56,
   "id": "stuffed-worry",
   "metadata": {},
   "outputs": [
    {
     "data": {
      "text/plain": [
       "array([[1.53361736],\n",
       "       [1.90241356]])"
      ]
     },
     "execution_count": 56,
     "metadata": {},
     "output_type": "execute_result"
    }
   ],
   "source": [
    "eta = 0.1 # learning rate\n",
    "n_iterations = 1000\n",
    "m = 100\n",
    "\n",
    "theta = np.random.randn(2, 1)\n",
    "theta"
   ]
  },
  {
   "cell_type": "code",
   "execution_count": 59,
   "id": "veterinary-privacy",
   "metadata": {},
   "outputs": [
    {
     "data": {
      "text/plain": [
       "array([[3.97012611],\n",
       "       [3.1285218 ]])"
      ]
     },
     "execution_count": 59,
     "metadata": {},
     "output_type": "execute_result"
    }
   ],
   "source": [
    "for iteration in range(n_iterations):\n",
    "    gradients = 2/m * X_b.T.dot(X_b.dot(theta) - y)\n",
    "    theta = theta - eta * gradients\n",
    "theta"
   ]
  },
  {
   "cell_type": "code",
   "execution_count": 94,
   "id": "expected-submission",
   "metadata": {},
   "outputs": [],
   "source": [
    "def plot_gradient_descent(theta, eta, theta_path=None):\n",
    "    m = len(X_b)\n",
    "    plt.plot(X, y, 'b.')\n",
    "    n_iterations = 1000\n",
    "    for iteration in range(n_iterations):\n",
    "        if iteration < 10:\n",
    "            y_predict = X_new_b.dot(theta)\n",
    "            style = 'b-' if iteration > 0 else 'r--'\n",
    "            a = (10 - iteration) / 10\n",
    "            plt.plot(X_new, y_predict, style, alpha=a)\n",
    "        gradients = gradients = 2/m * X_b.T.dot(X_b.dot(theta) - y)\n",
    "        theta = theta - eta * gradients\n",
    "    plt.axis([0, 2, -15, 15])"
   ]
  },
  {
   "cell_type": "code",
   "execution_count": 95,
   "id": "contained-chemical",
   "metadata": {},
   "outputs": [
    {
     "data": {
      "image/png": "[encoded data removed]",
      "text/plain": [
       "<Figure size 1008x288 with 3 Axes>"
      ]
     },
     "metadata": {
      "needs_background": "light"
     },
     "output_type": "display_data"
    }
   ],
   "source": [
    "theta = np.random.randn(2, 1)\n",
    "\n",
    "plt.figure(figsize=(14, 4))\n",
    "plt.subplot(131); plot_gradient_descent(theta, eta=0.02)\n",
    "plt.subplot(132); plot_gradient_descent(theta, eta=0.1)\n",
    "plt.subplot(133); plot_gradient_descent(theta, eta=0.5)"
   ]
  },
  {
   "cell_type": "markdown",
   "id": "compliant-cambridge",
   "metadata": {},
   "source": [
    "# Stochastic Gradient Descent"
   ]
  },
  {
   "cell_type": "code",
   "execution_count": 102,
   "id": "unavailable-needle",
   "metadata": {},
   "outputs": [
    {
     "data": {
      "text/plain": [
       "((100, 2), (100, 1), (2, 2))"
      ]
     },
     "execution_count": 102,
     "metadata": {},
     "output_type": "execute_result"
    }
   ],
   "source": [
    "X_b.shape, y.shape, X_new_b.shape"
   ]
  },
  {
   "cell_type": "code",
   "execution_count": 123,
   "id": "demanding-yeast",
   "metadata": {},
   "outputs": [
    {
     "data": {
      "text/plain": [
       "array([[0.46450052],\n",
       "       [0.93366379]])"
      ]
     },
     "execution_count": 123,
     "metadata": {},
     "output_type": "execute_result"
    }
   ],
   "source": [
    "n_epochs = 50\n",
    "t0, t1 = 5, 50\n",
    "\n",
    "def learning_schedule(t):\n",
    "    return t0 / (t + t1)\n",
    "\n",
    "theta = np.random.randn(2, 1)\n",
    "theta"
   ]
  },
  {
   "cell_type": "code",
   "execution_count": 124,
   "id": "norwegian-hamilton",
   "metadata": {},
   "outputs": [
    {
     "data": {
      "text/plain": [
       "(0.0, 2.0, 0.0, 15.0)"
      ]
     },
     "execution_count": 124,
     "metadata": {},
     "output_type": "execute_result"
    },
    {
     "data": {
      "image/png": "[encoded data removed]",
      "text/plain": [
       "<Figure size 432x288 with 1 Axes>"
      ]
     },
     "metadata": {
      "needs_background": "light"
     },
     "output_type": "display_data"
    }
   ],
   "source": [
    "for epoch in range(n_epochs):\n",
    "    for i in range(m):\n",
    "        if epoch == 0 and i < 20:\n",
    "            y_predict = X_new_b.dot(theta)\n",
    "            style = 'b-' if i > 0 else 'r--'\n",
    "            a = (20 - i) / 20\n",
    "            plt.plot(X_new, y_predict, style, alpha=a)\n",
    "        random_index = np.random.randint(m)\n",
    "        xi = X_b[random_index:random_index+1]\n",
    "        yi = y[random_index:random_index+1]\n",
    "        gradients = 2 * xi.T.dot(xi.dot(theta) - yi)\n",
    "        eta = learning_schedule(epoch * m + i)\n",
    "        theta = theta - eta * gradients\n",
    "        \n",
    "plt.plot(X, y, 'b.')\n",
    "plt.axis([0, 2, 0, 15])\n"
   ]
  },
  {
   "cell_type": "code",
   "execution_count": 127,
   "id": "incident-profile",
   "metadata": {},
   "outputs": [
    {
     "data": {
      "text/plain": [
       "SGDRegressor(eta0=0.1, penalty=None)"
      ]
     },
     "execution_count": 127,
     "metadata": {},
     "output_type": "execute_result"
    }
   ],
   "source": [
    "from sklearn.linear_model import SGDRegressor\n",
    "sgd_reg = SGDRegressor(max_iter=1000, tol=1e-3, penalty=None, eta0=0.1)\n",
    "sgd_reg.fit(X, y.ravel())"
   ]
  },
  {
   "cell_type": "code",
   "execution_count": 128,
   "id": "regular-cleaning",
   "metadata": {},
   "outputs": [
    {
     "data": {
      "text/plain": [
       "(array([4.00612666]), array([3.15419831]))"
      ]
     },
     "execution_count": 128,
     "metadata": {},
     "output_type": "execute_result"
    }
   ],
   "source": [
    "sgd_reg.intercept_, sgd_reg.coef_"
   ]
  },
  {
   "cell_type": "markdown",
   "id": "infinite-england",
   "metadata": {},
   "source": [
    "# Mini-batch Gradient Descent"
   ]
  },
  {
   "cell_type": "code",
   "execution_count": 152,
   "id": "ambient-grove",
   "metadata": {},
   "outputs": [
    {
     "data": {
      "text/plain": [
       "array([[4.07238059],\n",
       "       [3.14700619]])"
      ]
     },
     "execution_count": 152,
     "metadata": {},
     "output_type": "execute_result"
    }
   ],
   "source": [
    "n_iterations = 50\n",
    "minibatch_size = 20\n",
    "\n",
    "theta = np.random.randn(2, 1)\n",
    "\n",
    "t0, t1 = 200, 1000\n",
    "def learning_schedule(t):\n",
    "    return t0 / (t + t1)\n",
    "\n",
    "t = 0\n",
    "for epoch in range(n_iterations):\n",
    "    shuffled_indices = np.random.permutation(m)\n",
    "    X_b_shuffled = X_b[shuffled_indices]\n",
    "    y_shuffled = y[shuffled_indices]\n",
    "    for i in range(0, m, minibatch_size):\n",
    "        t += 1\n",
    "        xi = X_b_shuffled[i:i+minibatch_size]\n",
    "        yi = y_shuffled[i:i+minibatch_size]\n",
    "        gradients = 2/minibatch_size * xi.T.dot(xi.dot(theta) - yi)\n",
    "        eta = learning_schedule(t)\n",
    "        theta = theta - eta * gradients\n",
    "        \n",
    "theta"
   ]
  },
  {
   "cell_type": "markdown",
   "id": "overhead-framework",
   "metadata": {},
   "source": [
    "# Polynomial Regression"
   ]
  },
  {
   "cell_type": "code",
   "execution_count": 216,
   "id": "described-eugene",
   "metadata": {},
   "outputs": [
    {
     "data": {
      "text/plain": [
       "[<matplotlib.lines.Line2D at 0x12fedbca0>]"
      ]
     },
     "execution_count": 216,
     "metadata": {},
     "output_type": "execute_result"
    },
    {
     "data": {
      "image/png": "[encoded data removed]",
      "text/plain": [
       "<Figure size 432x288 with 1 Axes>"
      ]
     },
     "metadata": {
      "needs_background": "light"
     },
     "output_type": "display_data"
    }
   ],
   "source": [
    "m = 100\n",
    "X = 6 * np.random.rand(m, 1) - 3\n",
    "y = 0.5 * X**2 + X + 2 + np.random.randn(m, 1)\n",
    "\n",
    "plt.plot(X, y, 'b.')"
   ]
  },
  {
   "cell_type": "code",
   "execution_count": 217,
   "id": "bright-immigration",
   "metadata": {},
   "outputs": [
    {
     "data": {
      "text/plain": [
       "(array([-2.10717086]), array([-2.10717086,  4.44016902]))"
      ]
     },
     "execution_count": 217,
     "metadata": {},
     "output_type": "execute_result"
    }
   ],
   "source": [
    "from sklearn.preprocessing import PolynomialFeatures\n",
    "\n",
    "poly_features = PolynomialFeatures(degree=2, include_bias=False)\n",
    "X_poly = poly_features.fit_transform(X)\n",
    "X[0], X_poly[0]"
   ]
  },
  {
   "cell_type": "code",
   "execution_count": 218,
   "id": "broadband-asian",
   "metadata": {},
   "outputs": [
    {
     "data": {
      "text/plain": [
       "(array([1.97215055]), array([[1.06175824, 0.49192452]]))"
      ]
     },
     "execution_count": 218,
     "metadata": {},
     "output_type": "execute_result"
    }
   ],
   "source": [
    "lin_reg = LinearRegression()\n",
    "lin_reg.fit(X_poly, y)\n",
    "lin_reg.intercept_, lin_reg.coef_"
   ]
  },
  {
   "cell_type": "code",
   "execution_count": 219,
   "id": "exciting-yukon",
   "metadata": {
    "scrolled": true
   },
   "outputs": [],
   "source": [
    "X_poly_b = np.c_[np.ones((m, 1)), X_poly]"
   ]
  },
  {
   "cell_type": "code",
   "execution_count": 220,
   "id": "regular-header",
   "metadata": {},
   "outputs": [
    {
     "data": {
      "text/plain": [
       "array([[ 1.27256969],\n",
       "       [ 0.86233394],\n",
       "       [-1.20195478]])"
      ]
     },
     "execution_count": 220,
     "metadata": {},
     "output_type": "execute_result"
    }
   ],
   "source": [
    "theta = np.random.randn(3, 1)\n",
    "theta"
   ]
  },
  {
   "cell_type": "code",
   "execution_count": 242,
   "id": "solid-practice",
   "metadata": {},
   "outputs": [
    {
     "data": {
      "image/png": "[encoded data removed]",
      "text/plain": [
       "<Figure size 432x288 with 1 Axes>"
      ]
     },
     "metadata": {
      "needs_background": "light"
     },
     "output_type": "display_data"
    }
   ],
   "source": [
    "eta = 0.01\n",
    "n_iterations = 1000\n",
    "\n",
    "def plot_gradient_descent2(theta, eta):\n",
    "    m = len(X_poly_b)\n",
    "    plt.plot(X, y, 'b.')\n",
    "    i = 0\n",
    "    for iteration in range(n_iterations):\n",
    "        if iteration < 10:\n",
    "            y_pred = X_poly_b.dot(theta)\n",
    "            plt.plot(X, y_pred, 'r.', alpha=0.15)\n",
    "        gradients = gradients = 2/m * X_poly_b.T.dot(X_poly_b.dot(theta) - y)\n",
    "        theta = theta - eta * gradients\n",
    "        \n",
    "plot_gradient_descent2(theta, eta)"
   ]
  },
  {
   "cell_type": "code",
   "execution_count": 243,
   "id": "periodic-yugoslavia",
   "metadata": {},
   "outputs": [
    {
     "data": {
      "text/plain": [
       "array([[1.97203142],\n",
       "       [1.06175754],\n",
       "       [0.4919473 ]])"
      ]
     },
     "execution_count": 243,
     "metadata": {},
     "output_type": "execute_result"
    },
    {
     "data": {
      "image/png": "[encoded data removed]",
      "text/plain": [
       "<Figure size 432x288 with 1 Axes>"
      ]
     },
     "metadata": {
      "needs_background": "light"
     },
     "output_type": "display_data"
    }
   ],
   "source": [
    "y_pred = X_poly_b.dot(pred_theta)\n",
    "plt.plot(X, y_pred, 'r.')\n",
    "plt.plot(X, y, 'b.')\n",
    "pred_theta"
   ]
  },
  {
   "cell_type": "markdown",
   "id": "literary-neighbor",
   "metadata": {},
   "source": [
    "# Learning Curves"
   ]
  },
  {
   "cell_type": "code",
   "execution_count": 246,
   "id": "traditional-columbia",
   "metadata": {},
   "outputs": [],
   "source": [
    "X_new=np.linspace(-3, 3, 100).reshape(100, 1)\n",
    "X_new_poly = poly_features.transform(X_new)"
   ]
  },
  {
   "cell_type": "code",
   "execution_count": 290,
   "id": "white-carol",
   "metadata": {},
   "outputs": [],
   "source": [
    "from sklearn.metrics import mean_squared_error\n",
    "from sklearn.model_selection import train_test_split\n",
    "\n",
    "def plot_learning_curves(model, X, y):\n",
    "    X_train, X_val, y_train, y_val = train_test_split(X, y, test_size=0.2)\n",
    "    train_errors, val_errors = [], []\n",
    "    for m in range(1, len(X_train)):\n",
    "        model.fit(X_train[:m], y_train[:m])\n",
    "        y_train_pred = model.predict(X_train[:m])\n",
    "        y_val_pred = model.predict(X_val)\n",
    "        train_errors.append(mean_squared_error(y_train[:m], y_train_pred))\n",
    "        val_errors.append(mean_squared_error(y_val, y_val_pred))\n",
    "    plt.figure(figsize=(10, 4))\n",
    "    plt.axis([0, 80, 0, 4])\n",
    "    plt.plot(np.sqrt(train_errors), label='train')\n",
    "    plt.plot(np.sqrt(val_errors), label='val')\n",
    "    plt.legend()\n",
    "    plt.xlabel(\"Training Set Size\")\n",
    "    plt.ylabel(\"RMSE\")\n",
    "    \n"
   ]
  },
  {
   "cell_type": "code",
   "execution_count": 294,
   "id": "lesbian-contents",
   "metadata": {},
   "outputs": [
    {
     "data": {
      "image/png": "[encoded data removed]",
      "text/plain": [
       "<Figure size 720x288 with 1 Axes>"
      ]
     },
     "metadata": {
      "needs_background": "light"
     },
     "output_type": "display_data"
    }
   ],
   "source": [
    "lin_reg = LinearRegression()\n",
    "plot_learning_curves(lin_reg, X, y)"
   ]
  },
  {
   "cell_type": "code",
   "execution_count": 295,
   "id": "exact-duration",
   "metadata": {},
   "outputs": [
    {
     "data": {
      "image/png": "[encoded data removed]",
      "text/plain": [
       "<Figure size 720x288 with 1 Axes>"
      ]
     },
     "metadata": {
      "needs_background": "light"
     },
     "output_type": "display_data"
    }
   ],
   "source": [
    "from sklearn.pipeline import Pipeline\n",
    "\n",
    "polynomial_regression = Pipeline([\n",
    "    ('poly_features', PolynomialFeatures(degree=10, include_bias=False)),\n",
    "    ('lin_reg', LinearRegression())\n",
    "])\n",
    "\n",
    "plot_learning_curves(polynomial_regression, X, y)"
   ]
  },
  {
   "cell_type": "markdown",
   "id": "described-words",
   "metadata": {},
   "source": [
    "# Ridge Regression"
   ]
  },
  {
   "cell_type": "code",
   "execution_count": 303,
   "id": "considerable-superintendent",
   "metadata": {},
   "outputs": [
    {
     "data": {
      "text/plain": [
       "[<matplotlib.lines.Line2D at 0x12da32910>]"
      ]
     },
     "execution_count": 303,
     "metadata": {},
     "output_type": "execute_result"
    },
    {
     "data": {
      "image/png": "[encoded data removed]",
      "text/plain": [
       "<Figure size 432x288 with 1 Axes>"
      ]
     },
     "metadata": {
      "needs_background": "light"
     },
     "output_type": "display_data"
    }
   ],
   "source": [
    "from sklearn.linear_model import Ridge\n",
    "\n",
    "ridge_reg = Ridge(alpha=1, solver=\"cholesky\")\n",
    "ridge_reg.fit(X, y)\n",
    "y_pred_ridge = ridge_reg.predict(X)\n",
    "plt.plot(X, y, 'b.')\n",
    "plt.plot(X, y_pred_ridge, 'r.')"
   ]
  },
  {
   "cell_type": "code",
   "execution_count": 306,
   "id": "solid-postage",
   "metadata": {
    "scrolled": true
   },
   "outputs": [
    {
     "data": {
      "text/plain": [
       "[<matplotlib.lines.Line2D at 0x12fa9dfd0>]"
      ]
     },
     "execution_count": 306,
     "metadata": {},
     "output_type": "execute_result"
    },
    {
     "data": {
      "image/png": "[encoded data removed]",
      "text/plain": [
       "<Figure size 432x288 with 1 Axes>"
      ]
     },
     "metadata": {
      "needs_background": "light"
     },
     "output_type": "display_data"
    }
   ],
   "source": [
    "sgd_reg = SGDRegressor(penalty=\"l2\")\n",
    "sgd_reg.fit(X, y.ravel())\n",
    "y_pred_sgd_ridge = sgd_reg.predict(X)\n",
    "plt.plot(X, y, 'b.')\n",
    "plt.plot(X, y_pred_sgd_ridge, 'r.')"
   ]
  },
  {
   "cell_type": "code",
   "execution_count": 312,
   "id": "blond-vegetable",
   "metadata": {},
   "outputs": [],
   "source": [
    "np.random.seed(42)\n",
    "m = 20\n",
    "X = 3 * np.random.rand(m, 1)\n",
    "y = 1 + 0.5 * X + np.random.randn(m, 1) / 1.5\n",
    "X_new = np.linspace(0, 3, 100).reshape(100, 1)"
   ]
  },
  {
   "cell_type": "code",
   "execution_count": 316,
   "id": "annoying-equilibrium",
   "metadata": {},
   "outputs": [
    {
     "data": {
      "image/png": "[encoded data removed]",
      "text/plain": [
       "<Figure size 720x288 with 2 Axes>"
      ]
     },
     "metadata": {
      "needs_background": "light"
     },
     "output_type": "display_data"
    }
   ],
   "source": [
    "from sklearn.preprocessing import StandardScaler\n",
    "\n",
    "def plot_model(model_class, alphas, polynomial, **model_kargs):\n",
    "    for alpha, style in zip(alphas, ('b-', 'g--', 'r:')):\n",
    "        model = model_class(alpha, **model_kargs) if alpha > 0 else LinearRegression()\n",
    "        if polynomial:\n",
    "            model = Pipeline([\n",
    "                ('poly_features', PolynomialFeatures(degree=10, include_bias=False)),\n",
    "                ('std_scaler', StandardScaler()),\n",
    "                ('regul_reg', model)\n",
    "            ])\n",
    "        model.fit(X, y)\n",
    "        y_new_regul = model.predict(X_new)\n",
    "        plt.plot(X_new, y_new_regul, style, label=r\"$\\alpha = {}$\".format(alpha))\n",
    "    plt.plot(X, y, 'b.')    \n",
    "    plt.legend()\n",
    "plt.figure(figsize=(10,4))\n",
    "plt.subplot(121)\n",
    "plot_model(Ridge, polynomial=False, alphas=(0, 10, 100), random_state=42)\n",
    "plt.ylabel(\"$y$\", rotation=0, fontsize=18)\n",
    "plt.subplot(122)\n",
    "plot_model(Ridge, polynomial=True, alphas=(0, 10**-5, 1), random_state=42)\n",
    "            "
   ]
  },
  {
   "cell_type": "code",
   "execution_count": 317,
   "id": "sustainable-cowboy",
   "metadata": {},
   "outputs": [
    {
     "name": "stderr",
     "output_type": "stream",
     "text": [
      "/Users/nitinnazeer/Documents/ml/my_env/lib/python3.8/site-packages/sklearn/linear_model/_coordinate_descent.py:530: ConvergenceWarning: Objective did not converge. You might want to increase the number of iterations. Duality gap: 2.802867703827423, tolerance: 0.0009294783355207351\n",
      "  model = cd_fast.enet_coordinate_descent(\n"
     ]
    },
    {
     "data": {
      "image/png": "[encoded data removed]",
      "text/plain": [
       "<Figure size 720x288 with 2 Axes>"
      ]
     },
     "metadata": {
      "needs_background": "light"
     },
     "output_type": "display_data"
    }
   ],
   "source": [
    "from sklearn.linear_model import Lasso\n",
    "\n",
    "plt.figure(figsize=(10,4))\n",
    "plt.subplot(121)\n",
    "plot_model(Lasso, polynomial=False, alphas=(0, 0.1, 1), random_state=42)\n",
    "plt.ylabel(\"$y$\", rotation=0, fontsize=18)\n",
    "plt.subplot(122)\n",
    "plot_model(Lasso, polynomial=True, alphas=(0, 10**-7, 1), random_state=42)"
   ]
  },
  {
   "cell_type": "code",
   "execution_count": 318,
   "id": "massive-china",
   "metadata": {},
   "outputs": [
    {
     "data": {
      "text/plain": [
       "array([1.53788174])"
      ]
     },
     "execution_count": 318,
     "metadata": {},
     "output_type": "execute_result"
    }
   ],
   "source": [
    "from sklearn.linear_model import Lasso\n",
    "\n",
    "lasso_reg = Lasso(alpha=0.1)\n",
    "lasso_reg.fit(X, y)\n",
    "lasso_reg.predict([[1.5]])"
   ]
  },
  {
   "cell_type": "code",
   "execution_count": 319,
   "id": "associate-target",
   "metadata": {},
   "outputs": [
    {
     "data": {
      "text/plain": [
       "array([1.54333232])"
      ]
     },
     "execution_count": 319,
     "metadata": {},
     "output_type": "execute_result"
    }
   ],
   "source": [
    "from sklearn.linear_model import ElasticNet\n",
    "\n",
    "elastic_net = ElasticNet(alpha=0.1, l1_ratio=0.5)\n",
    "elastic_net.fit(X, y)\n",
    "elastic_net.predict([[1.5]])"
   ]
  },
  {
   "cell_type": "markdown",
   "id": "genuine-sociology",
   "metadata": {},
   "source": [
    "# Early Stopping"
   ]
  },
  {
   "cell_type": "code",
   "execution_count": 862,
   "id": "aquatic-concord",
   "metadata": {},
   "outputs": [],
   "source": [
    "import numpy as np\n",
    "from sklearn.model_selection import train_test_split\n",
    "\n",
    "m = 100\n",
    "X = 6 * np.random.rand(m, 1) - 3\n",
    "y = 2 + X + 0.5 * X**2 + np.random.randn(m, 1)\n",
    "\n",
    "X_train, X_val, y_train, y_val = train_test_split(X[:50], y[:50].ravel(), test_size=0.5, random_state=10)"
   ]
  },
  {
   "cell_type": "code",
   "execution_count": 869,
   "id": "celtic-large",
   "metadata": {},
   "outputs": [
    {
     "name": "stdout",
     "output_type": "stream",
     "text": [
      "Type:  <class 'numpy.ndarray'>  shape:  (25, 1)\n",
      "Type:  <class 'numpy.ndarray'>  shape:  (25, 1)\n",
      "Type:  <class 'numpy.ndarray'>  shape:  (25,)\n",
      "Type:  <class 'numpy.ndarray'>  shape:  (25,)\n"
     ]
    }
   ],
   "source": [
    "for data in X_train, X_val, y_train, y_val:\n",
    "    print(\"Type: \", type(data), \" shape: \", data.shape)"
   ]
  },
  {
   "cell_type": "code",
   "execution_count": 875,
   "id": "surgical-glasgow",
   "metadata": {},
   "outputs": [],
   "source": [
    "from sklearn.pipeline import Pipeline\n",
    "from sklearn.preprocessing import StandardScaler, PolynomialFeatures\n",
    "\n",
    "poly_scaler = Pipeline([\n",
    "            (\"poly_features\", PolynomialFeatures(degree=90, include_bias=False)),\n",
    "            (\"std_scaler\", StandardScaler())\n",
    "                      ])\n",
    "\n",
    "X_train_poly_scaled = poly_scaler.fit_transform(X_train)\n",
    "X_val_poly_scaled = poly_scaler.transform(X_val)"
   ]
  },
  {
   "cell_type": "code",
   "execution_count": 881,
   "id": "confidential-arcade",
   "metadata": {},
   "outputs": [],
   "source": [
    "def print_info(*args):\n",
    "    \"\"\"\n",
    "    Utility function to print type and shape of data structures.\n",
    "    \n",
    "    INPUT: One or more data structures\n",
    "    OUTPUT: Type and shape of each data structure   \n",
    "    \"\"\"\n",
    "    for data in args:\n",
    "        print(f\"Type: {type(data)}, Shape: {data.shape}\")"
   ]
  },
  {
   "cell_type": "code",
   "execution_count": 882,
   "id": "lesser-montreal",
   "metadata": {},
   "outputs": [
    {
     "name": "stdout",
     "output_type": "stream",
     "text": [
      "Type: <class 'numpy.ndarray'>, Shape: (25, 90)\n",
      "Type: <class 'numpy.ndarray'>, Shape: (25, 90)\n"
     ]
    }
   ],
   "source": [
    "print_info(X_train_poly_scaled, X_val_poly_scaled)"
   ]
  },
  {
   "cell_type": "code",
   "execution_count": 922,
   "id": "photographic-works",
   "metadata": {},
   "outputs": [],
   "source": [
    "from sklearn.linear_model import SGDRegressor\n",
    "from sklearn.base import clone\n",
    "from sklearn.metrics import mean_squared_error\n",
    "from copy import deepcopy\n",
    "\n",
    "num_epochs = 5000\n",
    "\n",
    "poly_scaler = Pipeline([\n",
    "        (\"poly_features\", PolynomialFeatures(degree=90, include_bias=False)),\n",
    "        (\"std_scaler\", StandardScaler())\n",
    "    ])\n",
    "\n",
    "X_train_poly_scaled = poly_scaler.fit_transform(X_train)\n",
    "X_val_poly_scaled = poly_scaler.transform(X_val)\n",
    "\n",
    "sgd_reg = SGDRegressor(max_iter=1, tol=-np.infty, warm_start=True,\n",
    "                       penalty=None, learning_rate=\"constant\", eta0=0.0005, random_state=42)\n",
    "\n",
    "minimum_val_error = float(\"inf\")\n",
    "best_epoch = None\n",
    "best_model = None\n",
    "train_errors, val_errors = [], []\n",
    "for epoch in range(num_epochs):\n",
    "    sgd_reg.fit(X_train_poly_scaled, y_train)  # continues where it left off\n",
    "    y_val_predict = sgd_reg.predict(X_val_poly_scaled)\n",
    "    y_train_predict = sgd_reg.predict(X_train_poly_scaled)\n",
    "    train_error = mean_squared_error(y_train, y_train_predict)\n",
    "    val_error = mean_squared_error(y_val, y_val_predict)\n",
    "    train_errors.append(train_error)\n",
    "    val_errors.append(val_error)\n",
    "    if val_error < minimum_val_error:\n",
    "        minimum_val_error = val_error\n",
    "        best_epoch = epoch\n",
    "        best_model = deepcopy(sgd_reg)\n",
    "        \n",
    "      "
   ]
  },
  {
   "cell_type": "code",
   "execution_count": 923,
   "id": "raising-million",
   "metadata": {},
   "outputs": [
    {
     "data": {
      "text/plain": [
       "2252"
      ]
     },
     "execution_count": 923,
     "metadata": {},
     "output_type": "execute_result"
    }
   ],
   "source": [
    "best_epoch"
   ]
  },
  {
   "cell_type": "code",
   "execution_count": 924,
   "id": "fluid-article",
   "metadata": {},
   "outputs": [
    {
     "data": {
      "image/png": "[encoded data removed]",
      "text/plain": [
       "<Figure size 432x288 with 1 Axes>"
      ]
     },
     "metadata": {
      "needs_background": "light"
     },
     "output_type": "display_data"
    }
   ],
   "source": [
    "plt.plot([0, num_epochs], [minimum_val_error, minimum_val_error], \"k:\", linewidth=2)\n",
    "plt.plot(np.sqrt(val_errors), \"b-\", linewidth=3, label=\"Validation set\")\n",
    "plt.plot(np.sqrt(train_errors), \"r--\", linewidth=2, label=\"Training set\")\n",
    "plt.legend(loc=\"upper right\", fontsize=14)\n",
    "plt.xlabel(\"Epoch\", fontsize=14)\n",
    "plt.ylabel(\"RMSE\", fontsize=14)\n",
    "plt.show()"
   ]
  },
  {
   "cell_type": "markdown",
   "id": "speaking-today",
   "metadata": {},
   "source": [
    "# Logistic Regression"
   ]
  },
  {
   "cell_type": "code",
   "execution_count": 1064,
   "id": "twelve-punch",
   "metadata": {},
   "outputs": [
    {
     "data": {
      "text/plain": [
       "['data',\n",
       " 'target',\n",
       " 'frame',\n",
       " 'target_names',\n",
       " 'DESCR',\n",
       " 'feature_names',\n",
       " 'filename']"
      ]
     },
     "execution_count": 1064,
     "metadata": {},
     "output_type": "execute_result"
    }
   ],
   "source": [
    "from sklearn import datasets\n",
    "\n",
    "iris = datasets.load_iris()\n",
    "list(iris.keys())"
   ]
  },
  {
   "cell_type": "code",
   "execution_count": 1065,
   "id": "closed-greeting",
   "metadata": {
    "scrolled": true
   },
   "outputs": [
    {
     "name": "stdout",
     "output_type": "stream",
     "text": [
      ".. _iris_dataset:\n",
      "\n",
      "Iris plants dataset\n",
      "--------------------\n",
      "\n",
      "**Data Set Characteristics:**\n",
      "\n",
      "    :Number of Instances: 150 (50 in each of three classes)\n",
      "    :Number of Attributes: 4 numeric, predictive attributes and the class\n",
      "    :Attribute Information:\n",
      "        - sepal length in cm\n",
      "        - sepal width in cm\n",
      "        - petal length in cm\n",
      "        - petal width in cm\n",
      "        - class:\n",
      "                - Iris-Setosa\n",
      "                - Iris-Versicolour\n",
      "                - Iris-Virginica\n",
      "                \n",
      "    :Summary Statistics:\n",
      "\n",
      "    ============== ==== ==== ======= ===== ====================\n",
      "                    Min  Max   Mean    SD   Class Correlation\n",
      "    ============== ==== ==== ======= ===== ====================\n",
      "    sepal length:   4.3  7.9   5.84   0.83    0.7826\n",
      "    sepal width:    2.0  4.4   3.05   0.43   -0.4194\n",
      "    petal length:   1.0  6.9   3.76   1.76    0.9490  (high!)\n",
      "    petal width:    0.1  2.5   1.20   0.76    0.9565  (high!)\n",
      "    ============== ==== ==== ======= ===== ====================\n",
      "\n",
      "    :Missing Attribute Values: None\n",
      "    :Class Distribution: 33.3% for each of 3 classes.\n",
      "    :Creator: R.A. Fisher\n",
      "    :Donor: Michael Marshall (MARSHALL%PLU@io.arc.nasa.gov)\n",
      "    :Date: July, 1988\n",
      "\n",
      "The famous Iris database, first used by Sir R.A. Fisher. The dataset is taken\n",
      "from Fisher's paper. Note that it's the same as in R, but not as in the UCI\n",
      "Machine Learning Repository, which has two wrong data points.\n",
      "\n",
      "This is perhaps the best known database to be found in the\n",
      "pattern recognition literature.  Fisher's paper is a classic in the field and\n",
      "is referenced frequently to this day.  (See Duda & Hart, for example.)  The\n",
      "data set contains 3 classes of 50 instances each, where each class refers to a\n",
      "type of iris plant.  One class is linearly separable from the other 2; the\n",
      "latter are NOT linearly separable from each other.\n",
      "\n",
      ".. topic:: References\n",
      "\n",
      "   - Fisher, R.A. \"The use of multiple measurements in taxonomic problems\"\n",
      "     Annual Eugenics, 7, Part II, 179-188 (1936); also in \"Contributions to\n",
      "     Mathematical Statistics\" (John Wiley, NY, 1950).\n",
      "   - Duda, R.O., & Hart, P.E. (1973) Pattern Classification and Scene Analysis.\n",
      "     (Q327.D83) John Wiley & Sons.  ISBN 0-471-22361-1.  See page 218.\n",
      "   - Dasarathy, B.V. (1980) \"Nosing Around the Neighborhood: A New System\n",
      "     Structure and Classification Rule for Recognition in Partially Exposed\n",
      "     Environments\".  IEEE Transactions on Pattern Analysis and Machine\n",
      "     Intelligence, Vol. PAMI-2, No. 1, 67-71.\n",
      "   - Gates, G.W. (1972) \"The Reduced Nearest Neighbor Rule\".  IEEE Transactions\n",
      "     on Information Theory, May 1972, 431-433.\n",
      "   - See also: 1988 MLC Proceedings, 54-64.  Cheeseman et al\"s AUTOCLASS II\n",
      "     conceptual clustering system finds 3 classes in the data.\n",
      "   - Many, many more ...\n"
     ]
    }
   ],
   "source": [
    "print(iris['DESCR'])"
   ]
  },
  {
   "cell_type": "code",
   "execution_count": 1066,
   "id": "behavioral-engineering",
   "metadata": {},
   "outputs": [
    {
     "data": {
      "text/plain": [
       "(150, 1)"
      ]
     },
     "execution_count": 1066,
     "metadata": {},
     "output_type": "execute_result"
    }
   ],
   "source": [
    "X = iris[\"data\"][:, 3:]\n",
    "X.shape"
   ]
  },
  {
   "cell_type": "code",
   "execution_count": 1067,
   "id": "permanent-shelf",
   "metadata": {},
   "outputs": [],
   "source": [
    "y = (iris[\"target\"] == 2).astype(int)"
   ]
  },
  {
   "cell_type": "code",
   "execution_count": 1068,
   "id": "sonic-outdoors",
   "metadata": {},
   "outputs": [
    {
     "data": {
      "text/plain": [
       "LogisticRegression(random_state=42)"
      ]
     },
     "execution_count": 1068,
     "metadata": {},
     "output_type": "execute_result"
    }
   ],
   "source": [
    "from sklearn.linear_model import LogisticRegression\n",
    "\n",
    "log_reg = LogisticRegression(solver=\"lbfgs\", random_state=42)\n",
    "log_reg.fit(X, y)"
   ]
  },
  {
   "cell_type": "code",
   "execution_count": 1081,
   "id": "described-jackson",
   "metadata": {
    "scrolled": true
   },
   "outputs": [
    {
     "data": {
      "text/plain": [
       "[<matplotlib.lines.Line2D at 0x139c84490>]"
      ]
     },
     "execution_count": 1081,
     "metadata": {},
     "output_type": "execute_result"
    },
    {
     "data": {
      "image/png": "[encoded data removed]",
      "text/plain": [
       "<Figure size 432x288 with 1 Axes>"
      ]
     },
     "metadata": {
      "needs_background": "light"
     },
     "output_type": "display_data"
    }
   ],
   "source": [
    "X_plot = np.linspace(0, 3, 1000).reshape(-1, 1)\n",
    "y_proba = log_reg.predict_proba(X_plot)\n",
    "\n",
    "plt.plot(X_plot, y_proba[:, 1], \"g-\", linewidth=2, label=\"Iris virginica\")\n",
    "plt.plot(X_plot, y_proba[:, 0], \"b--\", linewidth=2, label=\"Not Iris virginica\")"
   ]
  },
  {
   "cell_type": "markdown",
   "id": "special-refund",
   "metadata": {},
   "source": [
    "### Manual Logistic Regression with L2 penalty (one feature w/ bias)"
   ]
  },
  {
   "cell_type": "code",
   "execution_count": 1101,
   "id": "potential-failing",
   "metadata": {},
   "outputs": [],
   "source": [
    "# Manual Logistic Regression\n",
    "\n",
    "X_b = np.c_[np.ones(len(X)), X]\n",
    "y_b = y.reshape(-1, 1)\n",
    "theta = np.random.randn(2, 1)\n",
    "eta = 1\n",
    "n_iter = 100\n",
    "C = 10 ** 10\n",
    "m = len(X_bias)\n",
    "\n",
    "def sigmoid(X):\n",
    "    return 1 / (1 + np.exp(-X))"
   ]
  },
  {
   "cell_type": "code",
   "execution_count": 1102,
   "id": "amateur-investor",
   "metadata": {},
   "outputs": [],
   "source": [
    "for iteration in range(n_iter):\n",
    "    gradients = 1/C * theta + (1/m) * X_b.T @ (sigmoid(X_b @ theta) - y_b)\n",
    "    theta = theta - (eta * gradients)"
   ]
  },
  {
   "cell_type": "code",
   "execution_count": 1103,
   "id": "rental-shoulder",
   "metadata": {},
   "outputs": [
    {
     "data": {
      "text/plain": [
       "(2, 1)"
      ]
     },
     "execution_count": 1103,
     "metadata": {},
     "output_type": "execute_result"
    }
   ],
   "source": [
    "theta.shape"
   ]
  },
  {
   "cell_type": "code",
   "execution_count": 1104,
   "id": "statutory-pipeline",
   "metadata": {},
   "outputs": [],
   "source": [
    "X_plot_b = np.c_[np.ones(len(X_plot)), X_plot]\n",
    "y_plot_b = sigmoid(X_plot_b @ theta)"
   ]
  },
  {
   "cell_type": "code",
   "execution_count": 1105,
   "id": "banned-atlantic",
   "metadata": {},
   "outputs": [
    {
     "data": {
      "text/plain": [
       "[<matplotlib.lines.Line2D at 0x139e23d00>]"
      ]
     },
     "execution_count": 1105,
     "metadata": {},
     "output_type": "execute_result"
    },
    {
     "data": {
      "image/png": "[encoded data removed]",
      "text/plain": [
       "<Figure size 432x288 with 1 Axes>"
      ]
     },
     "metadata": {
      "needs_background": "light"
     },
     "output_type": "display_data"
    }
   ],
   "source": [
    "plt.plot(X_plot, y_plot_b)"
   ]
  },
  {
   "cell_type": "markdown",
   "id": "incorporate-gardening",
   "metadata": {},
   "source": [
    "### Manual Logistic Regression with L2 penalty (two features w/ bias)"
   ]
  },
  {
   "cell_type": "code",
   "execution_count": 1108,
   "id": "psychological-potato",
   "metadata": {},
   "outputs": [
    {
     "data": {
      "image/png": "[encoded data removed]",
      "text/plain": [
       "<Figure size 720x288 with 1 Axes>"
      ]
     },
     "metadata": {
      "needs_background": "light"
     },
     "output_type": "display_data"
    }
   ],
   "source": [
    "X = iris[\"data\"][:, (2, 3)]  # petal length, petal width\n",
    "y = (iris[\"target\"] == 2).astype(int)\n",
    "\n",
    "log_reg = LogisticRegression(solver=\"lbfgs\", C=10**10, random_state=42)\n",
    "log_reg.fit(X, y)\n",
    "\n",
    "x0, x1 = np.meshgrid(\n",
    "        np.linspace(2.9, 7, 500).reshape(-1, 1),\n",
    "        np.linspace(0.8, 2.7, 200).reshape(-1, 1),\n",
    "    )\n",
    "X_new = np.c_[x0.ravel(), x1.ravel()]\n",
    "\n",
    "y_proba = log_reg.predict_proba(X_new)\n",
    "\n",
    "plt.figure(figsize=(10, 4))\n",
    "plt.plot(X[y==0, 0], X[y==0, 1], \"bs\")\n",
    "plt.plot(X[y==1, 0], X[y==1, 1], \"g^\")\n",
    "\n",
    "zz = y_proba[:, 1].reshape(x0.shape)\n",
    "contour = plt.contour(x0, x1, zz, cmap=plt.cm.brg)\n",
    "\n",
    "\n",
    "left_right = np.array([2.9, 7])\n",
    "boundary = -(log_reg.coef_[0][0] * left_right + log_reg.intercept_[0]) / log_reg.coef_[0][1]\n",
    "\n",
    "plt.clabel(contour, inline=1, fontsize=12)\n",
    "plt.plot(left_right, boundary, \"k--\", linewidth=3)\n",
    "plt.text(3.5, 1.5, \"Not Iris virginica\", fontsize=14, color=\"b\", ha=\"center\")\n",
    "plt.text(6.5, 2.3, \"Iris virginica\", fontsize=14, color=\"g\", ha=\"center\")\n",
    "plt.xlabel(\"Petal length\", fontsize=14)\n",
    "plt.ylabel(\"Petal width\", fontsize=14)\n",
    "plt.axis([2.9, 7, 0.8, 2.7])\n",
    "plt.show()"
   ]
  },
  {
   "cell_type": "markdown",
   "id": "blocked-drive",
   "metadata": {},
   "source": [
    "# Softmax Regression (Multinomial Logistic Regression)"
   ]
  },
  {
   "cell_type": "code",
   "execution_count": 1117,
   "id": "biological-adjustment",
   "metadata": {},
   "outputs": [
    {
     "data": {
      "text/plain": [
       "LogisticRegression(C=10, multi_class='multinomial', random_state=42)"
      ]
     },
     "execution_count": 1117,
     "metadata": {},
     "output_type": "execute_result"
    }
   ],
   "source": [
    "X = iris[\"data\"][:, (2, 3)]\n",
    "y = iris[\"target\"]\n",
    "\n",
    "softmax_reg = LogisticRegression(multi_class=\"multinomial\",solver=\"lbfgs\", C=10, random_state=42)\n",
    "softmax_reg.fit(X, y)"
   ]
  },
  {
   "cell_type": "code",
   "execution_count": 1119,
   "id": "comfortable-philippines",
   "metadata": {},
   "outputs": [],
   "source": [
    "x0, x1 = np.meshgrid(\n",
    "        np.linspace(0, 8, 500).reshape(-1, 1),\n",
    "        np.linspace(0, 3.5, 200).reshape(-1, 1),\n",
    "    )\n",
    "\n",
    "X_new = np.c_[x0.ravel(), x1.ravel()]\n",
    "\n",
    "y_proba = softmax_reg.predict_proba(X_new)\n",
    "y_pred = softmax_reg.predict(X_new)"
   ]
  },
  {
   "cell_type": "code",
   "execution_count": 1124,
   "id": "incredible-trunk",
   "metadata": {},
   "outputs": [
    {
     "data": {
      "text/plain": [
       "(0.0, 7.0, 0.0, 3.5)"
      ]
     },
     "execution_count": 1124,
     "metadata": {},
     "output_type": "execute_result"
    },
    {
     "data": {
      "image/png": "[encoded data removed]",
      "text/plain": [
       "<Figure size 720x288 with 1 Axes>"
      ]
     },
     "metadata": {
      "needs_background": "light"
     },
     "output_type": "display_data"
    }
   ],
   "source": [
    "zz1 = y_proba[:, 1].reshape(x0.shape)\n",
    "zz = y_pred.reshape(x0.shape)\n",
    "\n",
    "plt.figure(figsize=(10, 4))\n",
    "plt.plot(X[y==2, 0], X[y==2, 1], \"g^\", label=\"Iris virginica\")\n",
    "plt.plot(X[y==1, 0], X[y==1, 1], \"bs\", label=\"Iris versicolor\")\n",
    "plt.plot(X[y==0, 0], X[y==0, 1], \"yo\", label=\"Iris setosa\")\n",
    "\n",
    "from matplotlib.colors import ListedColormap\n",
    "custom_cmap = ListedColormap(['#fafab0','#9898ff','#a0faa0'])\n",
    "\n",
    "plt.contourf(x0, x1, zz, cmap=custom_cmap)\n",
    "contour = plt.contour(x0, x1, zz1, cmap=plt.cm.brg)\n",
    "plt.clabel(contour, inline=1, fontsize=12)\n",
    "plt.xlabel(\"Petal length\", fontsize=14)\n",
    "plt.ylabel(\"Petal width\", fontsize=14)\n",
    "plt.axis([0, 7, 0, 3.5])"
   ]
  },
  {
   "cell_type": "markdown",
   "id": "severe-likelihood",
   "metadata": {},
   "source": [
    "# Question 7: Implement Batch Gradient Descent w/ Early Stopping for Softmax Regression"
   ]
  },
  {
   "cell_type": "code",
   "execution_count": 1182,
   "id": "broad-morning",
   "metadata": {},
   "outputs": [],
   "source": [
    "X = iris[\"data\"][:, (2, 3)]\n",
    "y = iris[\"target\"]"
   ]
  },
  {
   "cell_type": "code",
   "execution_count": 1183,
   "id": "hazardous-thousand",
   "metadata": {},
   "outputs": [],
   "source": [
    "X_b = np.c_[np.ones((len(X), 1)), X]"
   ]
  },
  {
   "cell_type": "code",
   "execution_count": 1184,
   "id": "breathing-jacksonville",
   "metadata": {},
   "outputs": [],
   "source": [
    "np.random.seed(2042)"
   ]
  },
  {
   "cell_type": "code",
   "execution_count": 1185,
   "id": "integral-province",
   "metadata": {},
   "outputs": [],
   "source": [
    "test_ratio = 0.2\n",
    "val_ratio = 0.2\n",
    "total_size = len(X_b)\n",
    "\n",
    "test_size = int(test_ratio * total_size)\n",
    "val_size = int(val_ratio * total_size)\n",
    "train_size = total_size - test_size - val_size\n",
    "\n",
    "rnd_indices = np.random.permutation(total_size)\n",
    "\n",
    "X_train = X_b[rnd_indices[:train_size]]\n",
    "X_val = X_b[rnd_indices[train_size:-test_size]]\n",
    "X_test = X_b[rnd_indices[-test_size:]]\n",
    "y_train = y[rnd_indices[:train_size]]\n",
    "y_val = y[rnd_indices[train_size:-test_size]]\n",
    "y_test = y[rnd_indices[-test_size:]]\n",
    "\n",
    "\n"
   ]
  },
  {
   "cell_type": "code",
   "execution_count": 1186,
   "id": "sonic-substance",
   "metadata": {},
   "outputs": [
    {
     "name": "stdout",
     "output_type": "stream",
     "text": [
      "Type: <class 'numpy.ndarray'>, Shape: (90, 3)\n",
      "Type: <class 'numpy.ndarray'>, Shape: (30, 3)\n",
      "Type: <class 'numpy.ndarray'>, Shape: (30, 3)\n",
      "Type: <class 'numpy.ndarray'>, Shape: (90,)\n",
      "Type: <class 'numpy.ndarray'>, Shape: (30,)\n",
      "Type: <class 'numpy.ndarray'>, Shape: (30,)\n"
     ]
    }
   ],
   "source": [
    "print_info(X_train, X_val, X_test, y_train, y_val, y_test)"
   ]
  },
  {
   "cell_type": "code",
   "execution_count": 1187,
   "id": "transparent-central",
   "metadata": {},
   "outputs": [],
   "source": [
    "def one_hot(y):\n",
    "    \"\"\"\n",
    "    Return a one-hot vectorized 2D array with:\n",
    "    - m rows, representing m samples\n",
    "    - n columns, representing n possible classes\n",
    "    \n",
    "    Each row will have a certain class selected using the number 1.\n",
    "    \"\"\"\n",
    "    num_classes = y.max() + 1\n",
    "    num_samples = len(y)\n",
    "    y_one_hot = np.zeros((num_samples, num_classes))\n",
    "    y_one_hot[np.arange(num_samples), y] = 1\n",
    "    return y_one_hot"
   ]
  },
  {
   "cell_type": "code",
   "execution_count": 1188,
   "id": "accessory-modeling",
   "metadata": {},
   "outputs": [
    {
     "data": {
      "text/plain": [
       "array([0, 1, 2, 1, 1, 0, 1, 1, 1, 0])"
      ]
     },
     "execution_count": 1188,
     "metadata": {},
     "output_type": "execute_result"
    }
   ],
   "source": [
    "y_train[:10]"
   ]
  },
  {
   "cell_type": "code",
   "execution_count": 1189,
   "id": "supported-istanbul",
   "metadata": {
    "scrolled": true
   },
   "outputs": [
    {
     "data": {
      "text/plain": [
       "array([[1., 0., 0.],\n",
       "       [0., 1., 0.],\n",
       "       [0., 0., 1.],\n",
       "       [0., 1., 0.],\n",
       "       [0., 1., 0.],\n",
       "       [1., 0., 0.],\n",
       "       [0., 1., 0.],\n",
       "       [0., 1., 0.],\n",
       "       [0., 1., 0.],\n",
       "       [1., 0., 0.]])"
      ]
     },
     "execution_count": 1189,
     "metadata": {},
     "output_type": "execute_result"
    }
   ],
   "source": [
    "one_hot(y_train[:10])"
   ]
  },
  {
   "cell_type": "code",
   "execution_count": 1190,
   "id": "ethical-cycle",
   "metadata": {},
   "outputs": [],
   "source": [
    "Y_train_one_hot = one_hot(y_train)\n",
    "Y_val_one_hot = one_hot(y_val)\n",
    "Y_test_one_hot = one_hot(y_test)"
   ]
  },
  {
   "cell_type": "code",
   "execution_count": 1191,
   "id": "composite-exception",
   "metadata": {},
   "outputs": [],
   "source": [
    "def softmax(logits):\n",
    "    exps = np.exp(logits)\n",
    "    exp_sums = np.sum(exps, axis=1, keepdims=True)\n",
    "    return exps / exp_sums"
   ]
  },
  {
   "cell_type": "code",
   "execution_count": 1192,
   "id": "sunrise-borough",
   "metadata": {},
   "outputs": [],
   "source": [
    "n_inputs = X_train.shape[1] # == 3 (2 features plus the bias term)\n",
    "n_outputs = len(np.unique(y_train))   # == 3 (3 iris classes)"
   ]
  },
  {
   "cell_type": "code",
   "execution_count": 1193,
   "id": "assured-university",
   "metadata": {},
   "outputs": [
    {
     "data": {
      "text/plain": [
       "(3, 3)"
      ]
     },
     "execution_count": 1193,
     "metadata": {},
     "output_type": "execute_result"
    }
   ],
   "source": [
    "n_inputs, n_outputs"
   ]
  },
  {
   "cell_type": "code",
   "execution_count": 1194,
   "id": "peripheral-rapid",
   "metadata": {},
   "outputs": [],
   "source": [
    "eta = 0.01\n",
    "n_iterations = 5001\n",
    "m = len(X_train)\n",
    "epsilon = 1e-7\n",
    "\n",
    "Theta = np.random.randn(n_inputs, n_outputs)"
   ]
  },
  {
   "cell_type": "code",
   "execution_count": 1195,
   "id": "thorough-customer",
   "metadata": {},
   "outputs": [
    {
     "name": "stdout",
     "output_type": "stream",
     "text": [
      "0 5.446205811872683\n",
      "500 0.8350062641405651\n",
      "1000 0.6878801447192402\n",
      "1500 0.6012379137693314\n",
      "2000 0.5444496861981872\n",
      "2500 0.5038530181431525\n",
      "3000 0.4729228972192248\n",
      "3500 0.44824244188957774\n",
      "4000 0.42786510939287936\n",
      "4500 0.41060071429187134\n",
      "5000 0.3956780375390373\n"
     ]
    }
   ],
   "source": [
    "for iteration in range(n_iterations):\n",
    "    logits = X_train @ Theta # m by 3\n",
    "    Y_proba = softmax(logits) # m by 3\n",
    "    Y_error = Y_proba - Y_train_one_hot # m by 3\n",
    "    if iteration % 500 == 0:\n",
    "        loss = -np.mean(np.sum(Y_train_one_hot * np.log(Y_proba + epsilon), axis=1))\n",
    "        print(iteration, loss)\n",
    "    gradients = (1 / m) * X_train.T @ Y_error\n",
    "    Theta = Theta - eta * gradients"
   ]
  },
  {
   "cell_type": "code",
   "execution_count": 1196,
   "id": "overhead-metropolitan",
   "metadata": {},
   "outputs": [
    {
     "data": {
      "text/plain": [
       "array([[ 3.32094157, -0.6501102 , -2.99979416],\n",
       "       [-1.1718465 ,  0.11706172,  0.10507543],\n",
       "       [-0.70224261, -0.09527802,  1.4786383 ]])"
      ]
     },
     "execution_count": 1196,
     "metadata": {},
     "output_type": "execute_result"
    }
   ],
   "source": [
    "Theta"
   ]
  },
  {
   "cell_type": "code",
   "execution_count": 1197,
   "id": "architectural-collins",
   "metadata": {},
   "outputs": [
    {
     "data": {
      "text/plain": [
       "0.9666666666666667"
      ]
     },
     "execution_count": 1197,
     "metadata": {},
     "output_type": "execute_result"
    }
   ],
   "source": [
    "logits = X_val.dot(Theta)\n",
    "Y_proba = softmax(logits)\n",
    "y_predict = np.argmax(Y_proba, axis=1)\n",
    "\n",
    "accuracy_score = np.mean(y_predict == y_val)\n",
    "accuracy_score"
   ]
  },
  {
   "cell_type": "code",
   "execution_count": 1199,
   "id": "local-civilian",
   "metadata": {},
   "outputs": [
    {
     "name": "stdout",
     "output_type": "stream",
     "text": [
      "0 4.7096017363419875\n",
      "500 0.5739711987633519\n",
      "1000 0.5435638529109128\n",
      "1500 0.5355752782580262\n",
      "2000 0.5331959249285545\n",
      "2500 0.5325946767399382\n",
      "2765 0.5325460966791898\n",
      "2766 0.5325460971327978 early stopping!\n"
     ]
    }
   ],
   "source": [
    "eta = 0.1 \n",
    "n_iterations = 5001\n",
    "m = len(X_train)\n",
    "epsilon = 1e-7\n",
    "alpha = 0.1  # regularization hyperparameter\n",
    "best_loss = np.infty\n",
    "\n",
    "Theta = np.random.randn(n_inputs, n_outputs)\n",
    "\n",
    "for iteration in range(n_iterations):\n",
    "    logits = X_train.dot(Theta)\n",
    "    Y_proba = softmax(logits)\n",
    "    error = Y_proba - Y_train_one_hot\n",
    "    gradients = 1/m * X_train.T.dot(error) + np.r_[np.zeros([1, n_outputs]), alpha * Theta[1:]]\n",
    "    Theta = Theta - eta * gradients\n",
    "\n",
    "    logits = X_val.dot(Theta)\n",
    "    Y_proba = softmax(logits)\n",
    "    xentropy_loss = -np.mean(np.sum(Y_val_one_hot * np.log(Y_proba + epsilon), axis=1))\n",
    "    l2_loss = 1/2 * np.sum(np.square(Theta[1:]))\n",
    "    loss = xentropy_loss + alpha * l2_loss\n",
    "    if iteration % 500 == 0:\n",
    "        print(iteration, loss)\n",
    "    if loss < best_loss:\n",
    "        best_loss = loss\n",
    "    else:\n",
    "        print(iteration - 1, best_loss)\n",
    "        print(iteration, loss, \"early stopping!\")\n",
    "        break"
   ]
  },
  {
   "cell_type": "code",
   "execution_count": 1202,
   "id": "disciplinary-convert",
   "metadata": {},
   "outputs": [
    {
     "data": {
      "text/plain": [
       "1.0"
      ]
     },
     "execution_count": 1202,
     "metadata": {},
     "output_type": "execute_result"
    }
   ],
   "source": [
    "logits = X_val.dot(Theta)\n",
    "Y_proba = softmax(logits)\n",
    "y_predict = np.argmax(Y_proba, axis=1)\n",
    "\n",
    "accuracy_score = np.mean(y_predict == y_val)\n",
    "accuracy_score"
   ]
  },
  {
   "cell_type": "code",
   "execution_count": 1203,
   "id": "announced-session",
   "metadata": {},
   "outputs": [
    {
     "data": {
      "text/plain": [
       "(0.0, 7.0, 0.0, 3.5)"
      ]
     },
     "execution_count": 1203,
     "metadata": {},
     "output_type": "execute_result"
    },
    {
     "data": {
      "image/png": "[encoded data removed]",
      "text/plain": [
       "<Figure size 720x288 with 1 Axes>"
      ]
     },
     "metadata": {
      "needs_background": "light"
     },
     "output_type": "display_data"
    }
   ],
   "source": [
    "x0, x1 = np.meshgrid(\n",
    "        np.linspace(0, 8, 500).reshape(-1, 1),\n",
    "        np.linspace(0, 3.5, 200).reshape(-1, 1),\n",
    "    )\n",
    "X_new = np.c_[x0.ravel(), x1.ravel()]\n",
    "X_new_with_bias = np.c_[np.ones([len(X_new), 1]), X_new]\n",
    "\n",
    "logits = X_new_with_bias.dot(Theta)\n",
    "Y_proba = softmax(logits)\n",
    "y_predict = np.argmax(Y_proba, axis=1)\n",
    "\n",
    "zz1 = Y_proba[:, 1].reshape(x0.shape)\n",
    "zz = y_predict.reshape(x0.shape)\n",
    "\n",
    "plt.figure(figsize=(10, 4))\n",
    "plt.plot(X[y==2, 0], X[y==2, 1], \"g^\", label=\"Iris virginica\")\n",
    "plt.plot(X[y==1, 0], X[y==1, 1], \"bs\", label=\"Iris versicolor\")\n",
    "plt.plot(X[y==0, 0], X[y==0, 1], \"yo\", label=\"Iris setosa\")\n",
    "\n",
    "from matplotlib.colors import ListedColormap\n",
    "custom_cmap = ListedColormap(['#fafab0','#9898ff','#a0faa0'])\n",
    "\n",
    "plt.contourf(x0, x1, zz, cmap=custom_cmap)\n",
    "contour = plt.contour(x0, x1, zz1, cmap=plt.cm.brg)\n",
    "plt.clabel(contour, inline=1, fontsize=12)\n",
    "plt.xlabel(\"Petal length\", fontsize=14)\n",
    "plt.ylabel(\"Petal width\", fontsize=14)\n",
    "plt.legend(loc=\"upper left\", fontsize=14)\n",
    "plt.axis([0, 7, 0, 3.5])"
   ]
  },
  {
   "cell_type": "code",
   "execution_count": null,
   "id": "equal-seller",
   "metadata": {},
   "outputs": [],
   "source": []
  }
 ],
 "metadata": {
  "kernelspec": {
   "display_name": "Python 3",
   "language": "python",
   "name": "python3"
  },
  "language_info": {
   "codemirror_mode": {
    "name": "ipython",
    "version": 3
   },
   "file_extension": ".py",
   "mimetype": "text/x-python",
   "name": "python",
   "nbconvert_exporter": "python",
   "pygments_lexer": "ipython3",
   "version": "3.8.3"
  }
 },
 "nbformat": 4,
 "nbformat_minor": 5
}
